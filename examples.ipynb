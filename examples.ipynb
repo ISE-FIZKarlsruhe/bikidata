{
 "cells": [
  {
   "cell_type": "code",
   "execution_count": 1,
   "metadata": {},
   "outputs": [],
   "source": [
    "import duckdb\n",
    "from duckdb.typing import *\n",
    "import xxhash"
   ]
  },
  {
   "cell_type": "code",
   "execution_count": 3,
   "metadata": {},
   "outputs": [],
   "source": [
    "D = duckdb.connect()\n",
    "\n",
    "class PREFIX:\n",
    "    def __init__(self, prefix):\n",
    "        self.prefix = prefix\n",
    "    def __call__(self, val):\n",
    "        return self.prefix[:-1] + val + '>'\n",
    "    def __getattr__(self, val):\n",
    "        return xxhash.xxh64(self.prefix[:-1] + val + '>').intdigest()\n",
    "    \n",
    "prefixes = \"\"\"\n",
    "bd: <http://www.bigdata.com/rdf#>\n",
    "cc: <http://creativecommons.org/ns#>\n",
    "dct: <http://purl.org/dc/terms/>\n",
    "geo: <http://www.opengis.net/ont/geosparql#>\n",
    "hint: <http://www.bigdata.com/queryHints#> \n",
    "ontolex: <http://www.w3.org/ns/lemon/ontolex#>\n",
    "owl: <http://www.w3.org/2002/07/owl#>\n",
    "prov: <http://www.w3.org/ns/prov#>\n",
    "rdf: <http://www.w3.org/1999/02/22-rdf-syntax-ns#>\n",
    "rdfs: <http://www.w3.org/2000/01/rdf-schema#>\n",
    "schema: <http://schema.org/>\n",
    "skos: <http://www.w3.org/2004/02/skos/core#>\n",
    "xsd: <http://www.w3.org/2001/XMLSchema#>\n",
    "p: <http://www.wikidata.org/prop/>\n",
    "pq: <http://www.wikidata.org/prop/qualifier/>\n",
    "pqn: <http://www.wikidata.org/prop/qualifier/value-normalized/>\n",
    "pqv: <http://www.wikidata.org/prop/qualifier/value/>\n",
    "pr: <http://www.wikidata.org/prop/reference/>\n",
    "prn: <http://www.wikidata.org/prop/reference/value-normalized/>\n",
    "prv: <http://www.wikidata.org/prop/reference/value/>\n",
    "psv: <http://www.wikidata.org/prop/statement/value/>\n",
    "ps: <http://www.wikidata.org/prop/statement/>\n",
    "psn: <http://www.wikidata.org/prop/statement/value-normalized/>\n",
    "wd: <http://www.wikidata.org/entity/>\n",
    "wdata: <http://www.wikidata.org/wiki/Special:EntityData/>\n",
    "wdno: <http://www.wikidata.org/prop/novalue/>\n",
    "wdref: <http://www.wikidata.org/reference/>\n",
    "wds: <http://www.wikidata.org/entity/statement/>\n",
    "wdt: <http://www.wikidata.org/prop/direct/>\n",
    "wdtn: <http://www.wikidata.org/prop/direct-normalized/>\n",
    "wdv: <http://www.wikidata.org/value/>\n",
    "wikibase: <http://wikiba.se/ontology#>\n",
    "\"\"\"\n",
    "PREFIXES = dict([line.split(': ') for line in filter(None, prefixes.split('\\n'))])\n",
    "for p, pp in PREFIXES.items():\n",
    "    locals()[p] = PREFIX(pp)"
   ]
  },
  {
   "cell_type": "code",
   "execution_count": null,
   "metadata": {},
   "outputs": [],
   "source": [
    "D.execute(f\"select p,o from 'tri.parquet' where s = {wd.Q43495635}\").fetchall()"
   ]
  }
 ],
 "metadata": {
  "kernelspec": {
   "display_name": "p39",
   "language": "python",
   "name": "python3"
  },
  "language_info": {
   "codemirror_mode": {
    "name": "ipython",
    "version": 3
   },
   "file_extension": ".py",
   "mimetype": "text/x-python",
   "name": "python",
   "nbconvert_exporter": "python",
   "pygments_lexer": "ipython3",
   "version": "3.9.15"
  },
  "orig_nbformat": 4
 },
 "nbformat": 4,
 "nbformat_minor": 2
}
